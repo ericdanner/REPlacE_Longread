{
 "cells": [
  {
   "cell_type": "markdown",
   "metadata": {},
   "source": [
    "## First we sort the reads"
   ]
  },
  {
   "cell_type": "markdown",
   "metadata": {},
   "source": [
    "this script takes pacbio fasta files and keeps 5'->3' sequences and gives the reverse compliment of any sequences in the 3'->5' direction. \n",
    "     then it outputs the files into seqsfwd folder.\n",
    "\n",
    "This script gets rid of sequences that don't have both ends. It also gets rid of sequences that have the end reference sequences\n",
    "     in both the forward and reverse direction in the same read as this resulted in some pcr or sequencing error.\n",
    "\n",
    "Sequences that have no forward or reverse of either the CAG (5') or pA (3') ends at all are put into mystery sequences file : seqfwd/mysterseqs"
   ]
  },
  {
   "cell_type": "code",
   "execution_count": 2,
   "metadata": {},
   "outputs": [],
   "source": [
    "import os\n",
    "from Bio import SeqIO\n",
    "from Bio.Seq import Seq\n",
    "from Bio.Alphabet import IUPAC\n",
    "import numpy as np\n",
    "from statistics import mode\n",
    "import random\n",
    "from matplotlib import pyplot as plt"
   ]
  },
  {
   "cell_type": "markdown",
   "metadata": {},
   "source": [
    "# Make the 5' and 3' list of sequences. \n",
    "\n"
   ]
  },
  {
   "cell_type": "markdown",
   "metadata": {},
   "source": [
    "#### The search at the 5' end and 3' end is broken into relativly short sequences as the error rate of sequencing is high so I am searching for a list of sequences representing sequences of the 5' and 3' ends for matches. "
   ]
  },
  {
   "cell_type": "code",
   "execution_count": 5,
   "metadata": {},
   "outputs": [],
   "source": [
    "'''\n",
    "I made a 15 nt window to search (stringLength) and picked the 5shift to be larger than the 3shift because the 5' string is longer and would there for become more \n",
    "computationally expensive to shift by 3\n",
    "'''\n",
    "\n",
    "def MakeSearchLists(FivePrimeFwd, ThreePrimeFwd, stringLength = 15, FiveShift = 5, ThreeShift = 3):\n",
    "    #check it is uppercase\n",
    "    FivePrimeForward = FivePrimeFwd.upper()\n",
    "    ThreePrimeForward = ThreePrimeFwd.upper()\n",
    "    #making forward lists\n",
    "    FiveFWDTable, FiveREVTable, ThreeFWDTable, ThreeREVTable = [], [], [], []\n",
    "    x5 = 0 + stringLength\n",
    "    while x5 < len(FivePrimeForward):\n",
    "        FiveFWDTable.append(FivePrimeForward[(x5-stringLength):x5])\n",
    "        x5 += FiveShift\n",
    "    x3 = 0 + stringLength\n",
    "    while x3 < len(ThreePrimeForward):\n",
    "        ThreeFWDTable.append(ThreePrimeForward[(x3-stringLength):x3])\n",
    "        x3 += ThreeShift\n",
    "    #make reverse compliment Lists\n",
    "    for sequence in FiveFWDTable:\n",
    "        FiveREVTable.append(sequence.reverse_complement())\n",
    "    for sequence in ThreeFWDTable:\n",
    "        ThreeREVTable.append(sequence.reverse_complement())\n",
    "    return(FiveFWDTable, FiveREVTable, ThreeFWDTable, ThreeREVTable)"
   ]
  },
  {
   "cell_type": "markdown",
   "metadata": {},
   "source": [
    "### This is the selected sequence in Polb. I had to play with this a bit"
   ]
  },
  {
   "cell_type": "markdown",
   "metadata": {},
   "source": [
    "## Do the Sorting of Sequences"
   ]
  },
  {
   "cell_type": "code",
   "execution_count": 6,
   "metadata": {},
   "outputs": [],
   "source": [
    "def Sorting(inputFileName, FivePrimeFwd, ThreePrimeFwd, outputStats = 'dataSummary'):\n",
    "    all_files = []\n",
    "    my_list = [] #this is the list for the appended sequences that are either correct direction or get .reversecompliment and then appended\n",
    "    mysterylist = [] #this is the list of things that didn't match\n",
    "    countAll = 0 #this is to count reads in original file\n",
    "    count5endF, count5endR, count3endF, count3endR = 0, 0, 0 ,0 #counting all different read types\n",
    "    countF, countR = 0, 0\n",
    "    mystery = 0 #this will count reads that have neither my 5' list nor 3' lists in them\n",
    "    countFinal = 0#counts the sequence in the final outpful file\n",
    "    bothDirections = 0 #counts reads that have either 5' end or 3' in both forward and reverse complement - which means fucked up somehow\n",
    "    \n",
    "    #making my search lists \n",
    "    FiveFWDTable, FiveREVTable, ThreeFWDTable, ThreeREVTable = MakeSearchLists(FivePrimeFwd, ThreePrimeFwd)\n",
    "    \n",
    "    for sequence in SeqIO.parse(inputFileName, \"fastq\"):\n",
    "        all_files.append(sequence)\n",
    "        countAll += 1\n",
    "        if any(listSeq in sequence for listSeq in FiveFWDTable): \n",
    "            count5endF += 1\n",
    "        if any(listSeq in sequence for listSeq in FiveREVTable): \n",
    "            count5endR += 1\n",
    "        if any(listSeq in sequence for listSeq in ThreeFWDTable):\n",
    "             count3endF += 1\n",
    "        if any(listSeq in sequence for listSeq in ThreeREVTable):\n",
    "            count3endR += 1\n",
    "        ###################### making the list of correct sequences\n",
    "        #first is to exclude sequences with sequence going in both directions as this means some weird error happenend\n",
    "        if (any(listSeq in sequence for listSeq in FiveFWDTable) or any(listSeq in sequence for listSeq in ThreeFWDTable)) and (any(listSeq in sequence for listSeq in FiveREVTable) or any(listSeq in sequence for listSeq in ThreeREVTable)):\n",
    "            bothDirections += 1  \n",
    "        #forward sequences containign both ends\n",
    "        elif (any(listSeq in sequence for listSeq in FiveFWDTable) and any(listSeq in sequence for listSeq in ThreeFWDTable)):\n",
    "            countF += 1\n",
    "            my_list.append(sequence)           \n",
    "        #reverse sequences and reverse them while keeping the id name and any othe rinfromation\n",
    "        elif (any(listSeq in sequence for listSeq in FiveREVTable) and any(listSeq in sequence for listSeq in ThreeREVTable)):\n",
    "            my_list.append(sequence.reverse_complement(id=True, name=True, description=True, annotations=True))\n",
    "            countR += 1\n",
    "        #if this does not have a sequence from the 5 or 3 end mystery  file\n",
    "        elif (any(listSeq not in sequence for listSeq in FiveFWDTable) and any(listSeq not in sequence for listSeq in FiveREVTable)) and (any(listSeq not in sequence for listSeq in ThreeFWDTable) and any(listSeq not in sequence for listSeq in ThreeREVTable)):\n",
    "            mystery += 1\n",
    "            mysterylist.append(sequence)\n",
    "        \n",
    "    ## Printing Stuff\n",
    "    print(\"\\nall seq in original file:\", countAll)\n",
    "    print(\"\\n5'Fwd containg sequences:\", count5endF, \"\\n3'endF containing seqs:\", count3endF, \"\\n5'endR containing sequences:\", count5endR, \"\\n3'endR containing seqs: \", count3endR)\n",
    "    print(\"\\n# total forward reads: \", countF)\n",
    "    print(\"# of total reverse reads: \", countR)\n",
    "    print(\"\\nfinal count in new file going one direction: \", countF+countR)\n",
    "    print(\"reads containing both F and R seq: \", bothDirections, \"\\n\\nMistery sequence without any recognized sequence: \", mystery)\n",
    "    \n",
    "    outputData =  np.array([('Num seq in original file:',countAll), (\"5'Fwd containg sequences:\", count5endF), (\"3'endF containing seqs:\", count3endF), (\"3'endR containing seqs: \", count3endR), (\"# total forward reads \", countF), (\"# of total reverse reads:\", countR),(\"final count in new file going one direction: \", countF + countR),(\"reads containing both F and R seq:\", bothDirections), (\"Mistery sequence without any recognized sequence:\", mystery)])\n",
    "    np.savetxt(outputStats +'.csv', outputData, delimiter=',', fmt=['%s','%s' ])\n",
    "    \n",
    "    return(my_list, mysterylist)"
   ]
  },
  {
   "cell_type": "markdown",
   "metadata": {},
   "source": [
    "# Making Sequences Forward Facing"
   ]
  },
  {
   "cell_type": "markdown",
   "metadata": {},
   "source": [
    "#### Define the unique ends for turning into a search list"
   ]
  },
  {
   "cell_type": "code",
   "execution_count": 7,
   "metadata": {},
   "outputs": [],
   "source": [
    "FivePrimeFwd = Seq('ACTGGGGTTCAATTTTCTGTGTCCTTTATTTCAAACCTTATCACATGGTATTCATTTGTTTTTCATTTTCTGCTTTTTACTTTATCTTTTAGTGATTTGGTAAGCATTATATTCATATGACTTTTATATTTCTAATTTTCCATGTAGCCTGGAGTAGGAACAAAAATTGCTGAAAAGATTGATGAGTTTTTAGCAACTGGAAAATTACGTAAACTGGAAAAGGTAAAATTTTAACTTGTTTACTTCATTAATTATAGTATCTGCCTTTATGGCCACTATGTAGCGTCATTGCAGGGTGACCAATGTCATTCACTGTAGTGAGACTCACAGGAAATGAGGTGAGTGAAGTTGATGGCTTTAACTTTTTGAATGTTATTTCCATAAAATGTTCACTTGTTTTATGTGGCATTTAAGAGACTATTAACACCCGTAATAGAGTTGGCTCATCGTTTTCAGTACTATTCAGAAAAGAGATTATAAACTTTGACTGAAAGATCGTTATCTTTTAGAATTTCTTTATTTCTTTATTTATGTTTTTGAGATGGAGTCTTGCTCTGTCGCCCAGGCTGGAGTGCAGTGGCGCGATCTCGGCTCACTGCAAGCTCCGCCTCCTGGGTTCATGCCATTCTCCTGCCTCAGCCTCCTGAGTAGCTGGGACTACAGGCGCCCGCCACCACACCCAGCTAATTTTTTGCATTTTTAGTAGAGACGGGGTTTCACCATGTTAGCCAGTATGGTCTCGATCTCCTGACCTCGTGATCTGCCCGCCTCGGCCTCCCAAAGTGCTGGGATTACAGGCATGAGCCACCATACCCGGCCATCTTTTAGAATTTCTATGTTTACACTCTCCCAAGCATTTTTATGGTTTTATTTCACCCCATGATAGTAATTATATCACTTCTGATCTGTTAAGAATAGACCTTTTAAAAGTATTGGATAACTTAGAGATGAGACATCTTCAGTTACTCTGTTATTCACCTATTACTCCTTAGGTTACTTGTGAA', IUPAC.unambiguous_dna)\n",
    "ThreePrimeFwd = Seq('cctataaGAGCATCTTCAGTCATTTCTGACATTCTGATTTATTTATATGAATaaaatgaaCAGTTTTCAAGTGCCATCTGTACATGGGCACTATGACAGC', IUPAC.unambiguous_dna)\n"
   ]
  },
  {
   "cell_type": "markdown",
   "metadata": {},
   "source": [
    "#### Do the calculation for Targeted Polb\n",
    "The data is saved in the PolbTargetedPreProcessingCleanupStats.csv file"
   ]
  },
  {
   "cell_type": "code",
   "execution_count": 8,
   "metadata": {},
   "outputs": [
    {
     "name": "stdout",
     "output_type": "stream",
     "text": [
      "\n",
      "all seq in original file: 16786\n",
      "\n",
      "5'Fwd containg sequences: 8289 \n",
      "3'endF containing seqs: 9800 \n",
      "5'endR containing sequences: 6997 \n",
      "3'endR containing seqs:  8567\n",
      "\n",
      "# total forward reads:  7121\n",
      "# of total reverse reads:  5922\n",
      "\n",
      "final count in new file going one direction:  13043\n",
      "reads containing both F and R seq:  3026 \n",
      "\n",
      "Mistery sequence without any recognized sequence:  717\n"
     ]
    }
   ],
   "source": [
    "inputFilePolbTargeted = \"../RawData/Polb_Targeted.fastq\"\n",
    "outputFilePolbTargeted = os.path.abspath(\"../seqsfwd/Polb_Targeted.fasta\")\n",
    "### For the unknown sequences\n",
    "mysterylistPolbTargeted = os.path.abspath(\"../seqsfwd/mysteryseqs/Polb_Targeted.fasta\")\n",
    "\n",
    "#run script\n",
    "my_SortedList, MyMysterylist = Sorting(inputFilePolbTargeted, FivePrimeFwd, ThreePrimeFwd, 'PolbTargetedPreProcessingCleanupStats')\n",
    "\n"
   ]
  },
  {
   "cell_type": "code",
   "execution_count": 91,
   "metadata": {},
   "outputs": [
    {
     "data": {
      "text/plain": [
       "13043"
      ]
     },
     "execution_count": 91,
     "metadata": {},
     "output_type": "execute_result"
    }
   ],
   "source": [
    "SeqIO.write(MyMysterylist, mysterylistFilename, \"fasta\")\n",
    "SeqIO.write(my_SortedList, outputFilePolbTargeted, \"fasta\")"
   ]
  },
  {
   "cell_type": "code",
   "execution_count": 3,
   "metadata": {},
   "outputs": [
    {
     "data": {
      "text/plain": [
       "Text(0.5,1,'All Reads')"
      ]
     },
     "execution_count": 3,
     "metadata": {},
     "output_type": "execute_result"
    },
    {
     "data": {
      "image/png": "[encoded data removed]",
      "text/plain": [
       "<Figure size 432x288 with 1 Axes>"
      ]
     },
     "metadata": {
      "needs_background": "light"
     },
     "output_type": "display_data"
    }
   ],
   "source": [
    "inputFileName = \"../seqsfwd/Polb_Targeted.fasta\"\n",
    "Lengths1 = []\n",
    "\n",
    "for sequence in SeqIO.parse(inputFileName, \"fasta\"):\n",
    "    Lengths1.append(len(sequence))\n",
    "\n",
    "fig1 = plt.figure()\n",
    "bins = np.arange(200, 6000, 1)\n",
    "plt.xlim([min(Lengths1), 6000])\n",
    "plt.hist(Lengths1, bins=bins, alpha=1);\n",
    "\n",
    "plt.xlabel('Sequence Length')\n",
    "plt.ylabel('Counts')\n",
    "plt.title('All Reads For targeted Polb Cells')"
   ]
  },
  {
   "cell_type": "code",
   "execution_count": 4,
   "metadata": {},
   "outputs": [
    {
     "data": {
      "text/plain": [
       "Text(0.5,1,'All Reads For Control Polb Cells')"
      ]
     },
     "execution_count": 4,
     "metadata": {},
     "output_type": "execute_result"
    },
    {
     "data": {
      "image/png": "[encoded data removed]",
      "text/plain": [
       "<Figure size 432x288 with 1 Axes>"
      ]
     },
     "metadata": {
      "needs_background": "light"
     },
     "output_type": "display_data"
    }
   ],
   "source": [
    "inputFileName = \"../seqsfwd/Polb_Cntl.fasta\"\n",
    "Lengths1 = []\n",
    "\n",
    "for sequence in SeqIO.parse(inputFileName, \"fasta\"):\n",
    "    Lengths1.append(len(sequence))\n",
    "\n",
    "fig1 = plt.figure()\n",
    "bins = np.arange(200, 6000, 1)\n",
    "plt.xlim([min(Lengths1), 6000])\n",
    "plt.hist(Lengths1, bins=bins, alpha=1);\n",
    "\n",
    "plt.xlabel('Sequence Length')\n",
    "plt.ylabel('Counts')\n",
    "plt.title('All Reads For Control Polb Cells')"
   ]
  },
  {
   "cell_type": "markdown",
   "metadata": {},
   "source": [
    "#### Make the sorted, forward facing Control Polb FASTA File\n",
    "Stats are saved in the PolbControlPreProcessingCleanupStats.csv file"
   ]
  },
  {
   "cell_type": "code",
   "execution_count": 92,
   "metadata": {},
   "outputs": [
    {
     "name": "stdout",
     "output_type": "stream",
     "text": [
      "\n",
      "all seq in original file: 21040\n",
      "\n",
      "5'Fwd containg sequences: 11215 \n",
      "5'endR containing sequences: 9283 \n",
      "3'endF containing seqs: 11950 \n",
      "3'endR containing seqs:  10034\n",
      "\n",
      "# total forward reads:  10481\n",
      "# of total reverse reads:  8580\n",
      "\n",
      "final count in new file going one direction:  19061\n",
      "reads containing both F and R seq:  1548 \n",
      "\n",
      "Mistery sequence without any recognized sequence:  431\n"
     ]
    }
   ],
   "source": [
    "inputFilePolbCntl = \"../RawData/Polb_Cntl.fastq\"\n",
    "outputFilePolbCntl = os.path.abspath(\"../seqsfwd/Polb_Cntl.fasta\")\n",
    "### For the unknown sequences\n",
    "mysterylistPolbCntl = os.path.abspath(\"../seqsfwd/mysteryseqs/mysteryPolb_Cntl.fasta\")\n",
    "\n",
    "#run script\n",
    "my_SortedPolbCntlList, MyPolbCntlMysterylist = Sorting(inputFilePolbCntl, FivePrimeFwd, ThreePrimeFwd, 'PolbControlPreProcessingCleanupStats')\n"
   ]
  },
  {
   "cell_type": "code",
   "execution_count": null,
   "metadata": {},
   "outputs": [],
   "source": [
    "SeqIO.write(MyPolbCntlMysterylist, mysterylistPolbCntl, \"fasta\")\n",
    "SeqIO.write(my_SortedPolbCntlList, outputFilePolbCntl, \"fasta\")"
   ]
  },
  {
   "cell_type": "markdown",
   "metadata": {},
   "source": [
    "# Sort the Sequences Into Bins: Wildtype, Deletion, Replacement w/ Cherry"
   ]
  },
  {
   "cell_type": "markdown",
   "metadata": {},
   "source": [
    "If it is replacement with Cherr"
   ]
  },
  {
   "cell_type": "code",
   "execution_count": 7,
   "metadata": {},
   "outputs": [],
   "source": [
    "def MakeSortingLists(WildTypeSeq, ReplacementSeq, WildTypeUnique, stringLength = 15, ShiftWindow = 5):\n",
    "         #Make sure all is in uppercase\n",
    "    PolbWTEntire = WildTypeSeq.upper()\n",
    "    PolbReplaceFWD = ReplacementSeq.upper()\n",
    "    PolbWTShort = WildTypeUnique.upper()\n",
    "        #Make the Empty Lists\n",
    "    PolbWTentireFWDTable, PolbWTentireREVTable = [], []\n",
    "    PolbReplaceFWDTable, PolbReplaceREVTable = [], [] \n",
    "    PolbWTShortFWDTable, PolbWTShortREVTable = [], []\n",
    "        ##### Making Fwd Lists\n",
    "    xWT = 0 + stringLength\n",
    "    while xWT < len(PolbWTEntire):\n",
    "        PolbWTentireFWDTable.append(PolbWTEntire[(xWT-stringLength):xWT])\n",
    "        xWT += ShiftWindow\n",
    "    xRep = 0 + stringLength\n",
    "    while xRep < len(PolbReplaceFWD):\n",
    "        PolbReplaceFWDTable.append(PolbReplaceFWD[(xRep-stringLength):xRep])\n",
    "        xRep += ShiftWindow\n",
    "    #short Seq\n",
    "    xWTshort = 0 + stringLength\n",
    "    while xWTshort < len(PolbWTShort):\n",
    "        PolbWTShortFWDTable.append(PolbWTShort[(xWTshort-stringLength):xWTshort])\n",
    "        xWTshort += 3\n",
    "        ##### Make Rev Compliment\n",
    "    for sequence in PolbWTentireFWDTable:\n",
    "        PolbWTentireREVTable.append(sequence.reverse_complement())\n",
    "    for sequence in PolbReplaceFWDTable:\n",
    "        PolbReplaceREVTable.append(sequence.reverse_complement())\n",
    "    for sequence in PolbWTShortFWDTable:\n",
    "        PolbWTShortREVTable.append(sequence.reverse_complement())\n",
    "    \n",
    "    return(PolbWTentireFWDTable, PolbWTentireREVTable, PolbReplaceFWDTable, PolbReplaceREVTable, PolbWTShortFWDTable, PolbWTShortREVTable)\n",
    "        "
   ]
  },
  {
   "cell_type": "code",
   "execution_count": 4,
   "metadata": {},
   "outputs": [],
   "source": [
    "def SortingFunction(inputFileName, outputStats, WTSeq, ReplacementSeq, ShortWTseq, stringLength, ShiftWindow):\n",
    "    countingAll = 0 \n",
    "    WTfwd, WTrev, mCherryF, mCherryR = 0, 0, 0, 0\n",
    "    HITI, HITImCherryF, HITImCherryR, Deletion = 0, 0, 0, 0 \n",
    "    mCherryfwdList, mCherryfwdListSmall, mCherryrevList, WTfwdList, deletionList, deletionListSmall, WTREVList, HITIList = [], [], [], [], [], [], [], []\n",
    "    \n",
    "    PolbWTentireFWDTable, PolbWTentireREVTable, PolbReplaceFWDTable, PolbReplaceREVTable, PolbWTuniqueFWDTable, PolbWTuniqueREVTable \\\n",
    "        = MakeSortingLists(WTSeq, ReplacementSeq, ShortWTseq, stringLength, ShiftWindow)\n",
    "    \n",
    "    for sequence in SeqIO.parse(inputFileName, \"fasta\"):\n",
    "        countingAll += 1\n",
    "        if any(listSeq in sequence for listSeq in PolbReplaceFWDTable): \n",
    "            pass\n",
    "        elif any(listSeq in sequence for listSeq in PolbReplaceREVTable): \n",
    "            pass\n",
    "        elif any(listSeq in sequence for listSeq in PolbWTentireFWDTable):\n",
    "            WTfwd +=1\n",
    "            WTfwdList.append(sequence)\n",
    "        elif any(listSeq in sequence for listSeq in PolbWTentireREVTable):\n",
    "            WTrev +=1\n",
    "            WTREVList.append(sequence)\n",
    "    #simliar logic as above for finding HIROS but first sort out WT containing (UNIQUE WT table) seqs to get rid of possible HITI. \n",
    "    for sequence in SeqIO.parse(inputFileName, \"fasta\"):\n",
    "        if any(listSeq in sequence for listSeq in PolbWTuniqueFWDTable):\n",
    "            pass\n",
    "        elif any(listSeq in sequence for listSeq in PolbWTuniqueREVTable):\n",
    "            pass\n",
    "        elif any(listSeq in sequence for listSeq in PolbReplaceFWDTable) and len(sequence) > 2850:\n",
    "            mCherryF += 1\n",
    "            mCherryfwdList.append(sequence)\n",
    "        elif any(listSeq in sequence for listSeq in PolbReplaceFWDTable) and len(sequence) < 2850:\n",
    "            mCherryfwdListSmall.append(sequence)\n",
    "            \n",
    "        elif any(listSeq in sequence for listSeq in PolbReplaceREVTable):\n",
    "            mCherryR += 1\n",
    "            mCherryrevList.append(sequence)\n",
    "\n",
    "    #counting all HITI \n",
    "    HITIList = []\n",
    "    for sequence in SeqIO.parse(inputFileName, \"fasta\"):\n",
    "        if (any(listSeq in sequence for listSeq in PolbWTuniqueFWDTable) or any(listSeq in sequence for listSeq in PolbWTuniqueREVTable)) and ( any(listSeq in sequence for listSeq in PolbReplaceFWDTable) or any(listSeq in sequence for listSeq in PolbReplaceREVTable)):\n",
    "            HITI += 1\n",
    "            HITIList.append(sequence)\n",
    "\n",
    "    for sequence in HITIList:\n",
    "        if any(listSeq in sequence for listSeq in PolbReplaceFWDTable):\n",
    "            HITImCherryF += 1\n",
    "        elif any(listSeq in sequence for listSeq in PolbReplaceREVTable):\n",
    "            HITImCherryR += 1\n",
    "\n",
    "     #check for Deletion       \n",
    "    for sequence in SeqIO.parse(inputFileName, \"fasta\"):\n",
    "        if not(any(listSeq in sequence for listSeq in PolbWTentireFWDTable) or any(listSeq in sequence for listSeq in PolbWTentireREVTable) or any(listSeq in sequence for listSeq in PolbReplaceFWDTable) or any(listSeq in sequence for listSeq in PolbReplaceREVTable)):\n",
    "            if len(sequence) > 1900:\n",
    "                deletionList.append(sequence)\n",
    "                Deletion += 1\n",
    "            elif len(sequence) <= 1900:\n",
    "                deletionListSmall.append(sequence)\n",
    "        else:\n",
    "            pass\n",
    " \n",
    "\n",
    "\n",
    "    #Printing Results\n",
    "    total = WTfwd + WTrev + mCherryF + mCherryR+ HITImCherryF + HITImCherryR + Deletion\n",
    "\n",
    "    print(\"WT Exon FWD alignments:\", WTfwd)\n",
    "    print(\"WT Exon inverted alignments:\", WTrev)\n",
    "    print(\"mCherryF seq:\", mCherryF)\n",
    "    print(\"mCherryR seq:\", mCherryR)\n",
    "    print(\"HITI mCherryF:\", HITImCherryF)\n",
    "    print(\"HITI mCherryR:\", HITImCherryR)\n",
    "    print(\"Deletion counts:\", Deletion)\n",
    "    print(\"total counted \", total, \"of reads in file:\", countingAll )\n",
    "    \n",
    "    \n",
    "    \n",
    "    outputData =  np.array([('Num seq in original file:',countingAll), (\"WT Exon FWD alignments:\", WTfwd), (\"WT Exon inverted alignments:\", WTrev), \\\n",
    "                            (\"mCherryF seq:\", mCherryF), (\"mCherryR seq:\", mCherryR), (\"HITI mCherryF:\", HITImCherryF), \\\n",
    "                            (\"HITI mCherryR:\", HITImCherryR),(\"Deletion counts:\", Deletion), (\"total Identified \", total), (\"Reads reads in file:\", countingAll)])\n",
    "    np.savetxt(outputStats +'.csv', outputData, delimiter=',', fmt=['%s','%s'])\n",
    "\n",
    "    return(mCherryfwdList, mCherryfwdListSmall, WTfwdList, WTREVList, deletionList, deletionListSmall, HITIList,) "
   ]
  },
  {
   "cell_type": "markdown",
   "metadata": {},
   "source": [
    "### Doing Sorting for the Polb Targeted\n",
    "Stats are save din the SortStatsPolbTargeted.csv file"
   ]
  },
  {
   "cell_type": "code",
   "execution_count": 5,
   "metadata": {},
   "outputs": [],
   "source": [
    "PolbEntireWT = Seq('TTCATGTCTTTTAGCAGACTGGTATGTTTCCAATAAGATCATTTAAGTCCTCAAAGCATTCCTAAATCATTGTTAGACTTTTTTTTTTCTTAAAGATTCGGCAGGATGATACGAGTTCATCCATCAATTTCCTGACTCGAGTTAGTGGCATTGGGTAAGAACTATTTTTTAAGCAGACACAATCGTCAGTTAGTTTATTTTTCCTGTTAGCCAAAGTAAATTACATGCTGTTTCTCAAAACCTGTACTTCACCACCTCTGTACCTTAGCCATACAGTTCACCCTTCCATAGCTTATGATCTGAGGCCGATTCTTCAGATAGTGTCTCTACTGTAAGGTCCCCATCCAAGGCAGATGTTACCTCCTTCA', IUPAC.unambiguous_dna) \n",
    "PolbReplace = Seq('GATTGAGGGCAGAGGAAGTCTGCTAACATGCGGTGACGTGGAGGAGAATCCCGGCCCTGCTAGCATGGTGAGCAAGGGCGAGGAGGATAACATGGCCATCATCAAGGAGTTCATGCGCTTCAAGGTGCACATGGAGGGCTCCGTGAACGGCCACGAGTTCGAGATCGAGGGCGAGGGCGAGGGCCGCCCCTACGAGGGCACCCAGACCGCCAAGCTGAAGGTGACCAAGGGTGGCCCCCTGCCCTTCGCCTGGGACATCCTGTCCCCTCAGTTCATGTACGGCTCCAAGGCCTACGTGAAGCACCCCGCCGACATCCCCGACTACTTGAAGCTGTCCTTCCCCGAGGGCTTCAAGTGGGAGCGCGTGATGAACTTCGAGGACGGCGGCGTGGTGACCGTGACCCAGGACTCCTCCCTGCAGGACGGCGAGTTCATCTACAAGGTGAAGCTGCGCGGCACCAACTTCCCCTCAGACGGCCCCGTAATGCAGAAGAAAACCATGGGCTGGGAGGCCTCCTCCGAGCGGATGTACCCCGAGGACGGCGCCCTGAAGGGCGAGATCAAGCAGAGGCTGAAGCTGAAGGACGGCGGCCACTACGACGCTGAGGTCAAGACCACCTACAAGGCCAAGAAGCCCGTGCAGCTGCCCGGCGCCTACAACGTCAACATCAAGTTGGACATCACCTCCCACAACGAGGACTACACCATCGTGGAACAGTACGAACGCGCCGAGGGCCGCCACTCCACCGGCGGCATGGACGAGCTGTACAAGTAAGAATTCCTAGAGCTCGCTGATCAGCCTCGACTGTGCCTTCTAGTTGCCAGCCATCTGTTGTTTGCCCCTCCCCCGTGCCTTCCTTGACCCTGGAAGGTGCCACTCCCACTGTCCTTTCCTAATAAAATGAGGAAATTGCATCGCATTGTCTGAGTAGGTGTCATTCTATTCTGGGGGGTGGGGTGGGGCAGGACAGCAAGGGGGAGGATTGGGAAGAGAATAGCAGGCATGCTGGGGggatccctgcaggagctcgtcgacccatgggggcccgccccaactggggtaacctttgggctccccgggcgcgactagtgaattcagatctgatatctc', IUPAC.unambiguous_dna) \n",
    "PolbShortWT = Seq('AGATTCGGCAGGATGATACGAGTTCATCCATCAATTTCCTGACTCGAGTTAGTGGCATTGGGTA', IUPAC.unambiguous_dna) \n"
   ]
  },
  {
   "cell_type": "code",
   "execution_count": 8,
   "metadata": {},
   "outputs": [
    {
     "name": "stdout",
     "output_type": "stream",
     "text": [
      "WT Exon FWD alignments: 937\n",
      "WT Exon inverted alignments: 1076\n",
      "mCherryF seq: 349\n",
      "mCherryR seq: 44\n",
      "HITI mCherryF: 38\n",
      "HITI mCherryR: 4\n",
      "Deletion counts: 9784\n",
      "total counted  12232 of reads in file: 13031\n"
     ]
    }
   ],
   "source": [
    "inputFileName = \"../seqsfwd/Polb_Targeted.fasta\"\n",
    "\n",
    "mCherryfwdList, mCherryfwdListSmall, WTfwdList, WTREVList, deletionList, deletionListSmall, HitiList \\\n",
    "    = SortingFunction(inputFileName, 'SortStatsPolbTargetedNew', PolbEntireWT, PolbReplace, PolbShortWT, 15, 5)"
   ]
  },
  {
   "cell_type": "markdown",
   "metadata": {},
   "source": [
    "For Saving the Cells for Alignment:"
   ]
  },
  {
   "cell_type": "code",
   "execution_count": 93,
   "metadata": {},
   "outputs": [
    {
     "data": {
      "text/plain": [
       "711"
      ]
     },
     "execution_count": 93,
     "metadata": {},
     "output_type": "execute_result"
    }
   ],
   "source": [
    "outputFilemCherryHIROS = \"../sortedseqs/Targeted/PolbCherry.fasta\"\n",
    "outputFilemCherryHIROSsmall = \"../sortedseqs/Targeted/PolbCherrySmall.fasta\"\n",
    "outputFileWTfwd = \"../sortedseqs/Targeted/WTpolb.fasta\"\n",
    "outputFileWTrev = \"../sortedseqs/Targeted/WTREVpolb.fasta\"\n",
    "outputFiledel = \"../sortedseqs/Targeted/PolbDel.fasta\"\n",
    "outputFiledelsmall = \"../sortedseqs/Targeted/PolbDelSmall.fasta\"\n",
    "\n",
    "SeqIO.write(mCherryfwdList, outputFilemCherryHIROS, \"fasta\")\n",
    "SeqIO.write(mCherryfwdListSmall, outputFilemCherryHIROSsmall, \"fasta\")\n",
    "SeqIO.write(WTfwdList, outputFileWTfwd, \"fasta\")\n",
    "SeqIO.write(WTREVList, outputFileWTrev, \"fasta\")\n",
    "SeqIO.write(deletionList, outputFiledel, \"fasta\")\n",
    "SeqIO.write(deletionListSmall, outputFiledelsmall, \"fasta\")"
   ]
  },
  {
   "cell_type": "markdown",
   "metadata": {},
   "source": [
    "### Doing Sorting for the Polb Control\n",
    "Stats are saved in the SortStatsPolbCntl.csv file"
   ]
  },
  {
   "cell_type": "code",
   "execution_count": 103,
   "metadata": {},
   "outputs": [
    {
     "name": "stdout",
     "output_type": "stream",
     "text": [
      "WT Exon FWD alignments: 19034\n",
      "WT Exon inverted alignments: 0\n",
      "mCherryF seq: 0\n",
      "mCherryR seq: 0\n",
      "HITI mCherryF: 0\n",
      "HITI mCherryR: 2\n",
      "Deletion counts: 2\n",
      "total counted  19038 of reads in file: 19046\n"
     ]
    }
   ],
   "source": [
    "inputFileFwdCntl = \"../seqsfwd/Polb_Cntl.fasta\"\n",
    "\n",
    "mCherryfwdList, mCherryfwdListSmall, WTfwdList, WTREVList, deletionList, deletionListSmall, HitiList \\\n",
    "     = SortingFunction(inputFileFwdCntl, 'SortStatsPolbCntl', PolbEntireWT, PolbReplace, PolbShortWT, 15, 5)"
   ]
  },
  {
   "cell_type": "code",
   "execution_count": 104,
   "metadata": {},
   "outputs": [
    {
     "data": {
      "text/plain": [
       "2"
      ]
     },
     "execution_count": 104,
     "metadata": {},
     "output_type": "execute_result"
    }
   ],
   "source": [
    "outputFileCntlWTfwd = \"../sortedseqs/Control/WTCntlpolb.fasta\"\n",
    "outputFileCntlHITI = \"../sortedseqs/Control/HITIControlpolb.fasta\"\n",
    "outputFileCntldel = \"../sortedseqs/Control/PolbControlDel.fasta\"\n",
    "\n",
    "SeqIO.write(WTfwdList, outputFileCntlWTfwd, \"fasta\")\n",
    "SeqIO.write(HitiList, outputFileCntlHITI, \"fasta\")\n",
    "SeqIO.write(deletionList, outputFileCntldel, \"fasta\")\n"
   ]
  },
  {
   "cell_type": "markdown",
   "metadata": {},
   "source": [
    "## Plotting of the Sorting for Targeted Cells\n"
   ]
  },
  {
   "cell_type": "markdown",
   "metadata": {},
   "source": [
    "The control Cells were 100% wt looking so nothing interesting to view"
   ]
  },
  {
   "cell_type": "code",
   "execution_count": 8,
   "metadata": {},
   "outputs": [],
   "source": [
    "#THIS CODE MAKES PLOTS IN PDF (VECTOR FORMAT)\n",
    "from matplotlib.pyplot import *\n",
    "%matplotlib inline\n",
    "\n",
    "from IPython.display import set_matplotlib_formats\n",
    "set_matplotlib_formats('png', 'pdf')"
   ]
  },
  {
   "cell_type": "code",
   "execution_count": 10,
   "metadata": {},
   "outputs": [
    {
     "data": {
      "application/pdf": "[encoded data removed]",
      "image/png": "[encoded data removed]",
      "text/plain": [
       "<Figure size 432x288 with 1 Axes>"
      ]
     },
     "metadata": {},
     "output_type": "display_data"
    }
   ],
   "source": [
    "# Polb WT fwdrev\n",
    "labels =  'Polb WT Exon Rev', 'Polb WT Exon Forward'\n",
    "sizes = [1076,937 ]\n",
    "colors = ['gold', 'yellow']\n",
    "plt.rcParams['font.size'] = 15\n",
    "\n",
    "# Plot\n",
    "plt.pie(sizes, labels=labels, colors=colors,\n",
    "        autopct='%1.1f%%', shadow=False, startangle=90,\n",
    "        wedgeprops = {'linewidth':3, 'edgecolor': 'black'})\n",
    " \n",
    "plt.axis('equal');\n",
    "plt.title(str(1076+937) + ' reads')\n",
    "\n",
    "#plt.savefig(\"./Plots/PolbWTRatio.png\")\n",
    "plt.savefig(\"./Plots/PolbWTRatio.pdf\")"
   ]
  },
  {
   "cell_type": "code",
   "execution_count": 12,
   "metadata": {},
   "outputs": [
    {
     "data": {
      "application/pdf": "[encoded data removed]",
      "image/png": "[encoded data removed]",
      "text/plain": [
       "<Figure size 432x288 with 1 Axes>"
      ]
     },
     "metadata": {},
     "output_type": "display_data"
    }
   ],
   "source": [
    "# Polb HIROS fwdrev\n",
    "labels = 'Polb Seq Repalce Rev', 'Polb Seq Replace Fwd'\n",
    "sizes = [42, 348]\n",
    "colors = ['green', 'lightgreen']\n",
    "plt.rcParams['font.size'] = 15\n",
    "\n",
    "# Plot\n",
    "plt.pie(sizes, labels=labels, colors=colors,\n",
    "        autopct='%1.1f%%', shadow=False, startangle=90,\n",
    "        wedgeprops = {'linewidth':3, 'edgecolor': 'black'})\n",
    "plt.title(str(42+348) + ' reads')\n",
    " \n",
    "plt.axis('equal');\n",
    "#plt.savefig(\"./Plots/PolbReplaceRatio.png\")\n",
    "plt.savefig(\"./Plots/PolbReplaceRatio.pdf\")"
   ]
  },
  {
   "cell_type": "code",
   "execution_count": 11,
   "metadata": {},
   "outputs": [
    {
     "data": {
      "application/pdf": "[encoded data removed]",
      "image/png": "[encoded data removed]",
      "text/plain": [
       "<Figure size 432x288 with 1 Axes>"
      ]
     },
     "metadata": {},
     "output_type": "display_data"
    }
   ],
   "source": [
    "# Polb HITI fwdrev\n",
    "\n",
    "labels = 'Polb Seq Insertion Rev','Polb Seq Insertion Fwd'\n",
    "sizes = [4,38 ]\n",
    "colors = ['lightskyblue','blue']\n",
    "plt.rcParams['font.size'] = 15\n",
    "explode = 0, 0.3\n",
    "# Plot\n",
    "plt.pie(sizes, labels=labels, colors=colors,\n",
    "        autopct='%1.1f%%', shadow=False, startangle=90,\n",
    "        wedgeprops = {'linewidth' :3, 'edgecolor': 'black'})\n",
    "plt.title(str(4+38) + ' reads')\n",
    "\n",
    "\n",
    "plt.axis('equal');\n",
    "plt.savefig(\"./Plots/PolbInsertionRatio.png\")\n",
    "plt.savefig(\"./Plots/PolbInsertionRatio.pdf\")"
   ]
  },
  {
   "cell_type": "markdown",
   "metadata": {},
   "source": [
    "# Bash Scripts Using MiniMap2 to do alignment"
   ]
  },
  {
   "cell_type": "markdown",
   "metadata": {},
   "source": [
    "For this part it is crucial to be running this .ipynb notebook from the correct conda enviornment"
   ]
  },
  {
   "cell_type": "code",
   "execution_count": 108,
   "metadata": {},
   "outputs": [
    {
     "name": "stdout",
     "output_type": "stream",
     "text": [
      "/home/edanner/workspace/V2Seq/Scripts\n"
     ]
    }
   ],
   "source": [
    "%%bash \n",
    "pwd\n",
    "#we need to be in the same directory as the minimap script"
   ]
  },
  {
   "cell_type": "code",
   "execution_count": 109,
   "metadata": {},
   "outputs": [
    {
     "name": "stdout",
     "output_type": "stream",
     "text": [
      "#!/bin/sh\n",
      "\n",
      "reference_file=$1\n",
      "reads_file=$2\n",
      "outputfile=$3\n",
      "\n",
      "\n",
      "\n",
      "# run Minimap2 tool\n",
      "#the pac bio setting didn't work well. Chopped reads into 500 bp for some reason.\n",
      "#minimap2 -ax map-pb $reference_file $reads_file > $outputfile'.sam' \n",
      "\n",
      "#splice setting works\n",
      "minimap2 -ax splice $reference_file $reads_file > $outputfile'.sam' \n",
      "\n",
      "echo $outputfile'.sam'\n",
      "#this converts and indexes for IGV viewing or my analysis processing\n",
      "\n",
      "# sam to bam\n",
      "samtools view -Sb $outputfile'.sam' > $outputfile'.bam'\n",
      "\n",
      "# sort bam file\n",
      "samtools sort -o $outputfile.sorted.bam $outputfile.bam\n",
      "\n",
      "# index\n",
      "samtools index $outputfile.sorted.bam\n",
      "\n",
      "\n"
     ]
    }
   ],
   "source": [
    "%%bash\n",
    "#the script for alignment -> sorted, indexed bam file\n",
    "cat MiniMapscript.sh"
   ]
  },
  {
   "cell_type": "code",
   "execution_count": 3,
   "metadata": {},
   "outputs": [
    {
     "name": "stdout",
     "output_type": "stream",
     "text": [
      "../AlignmentMiniMap2/Polb/Cntl_PolbWT.sam\n"
     ]
    },
    {
     "name": "stderr",
     "output_type": "stream",
     "text": [
      "[M::mm_idx_gen::0.001*11.98] collected minimizers\n",
      "[M::mm_idx_gen::0.002*8.39] sorted minimizers\n",
      "[M::main::0.002*8.31] loaded/built the index for 1 target sequence(s)\n",
      "[M::mm_mapopt_update::0.002*7.89] mid_occ = 3\n",
      "[M::mm_idx_stat] kmer size: 15; skip: 5; is_hpc: 0; #seq: 1\n",
      "[M::mm_idx_stat::0.002*7.54] distinct minimizers: 1154 (99.83% are singletons); average occurrences: 1.002; average spacing: 2.963\n",
      "[M::worker_pipeline::17.319*2.94] mapped 18990 sequences\n",
      "[M::main] Version: 2.17-r941\n",
      "[M::main] CMD: minimap2 -ax splice ../refseqs/polbwt.fasta ../sortedseqs/Control/CntlWTpolb.fasta\n",
      "[M::main] Real time: 17.321 sec; CPU: 50.841 sec; Peak RSS: 0.097 GB\n"
     ]
    }
   ],
   "source": [
    "%%bash\n",
    "#Control WT:\n",
    "bash MiniMapscript.sh ../refseqs/polbwt.fasta ../sortedseqs/Control/CntlWTpolb.fasta ../AlignmentMiniMap2/Polb/Cntl_PolbWT"
   ]
  },
  {
   "cell_type": "code",
   "execution_count": null,
   "metadata": {},
   "outputs": [],
   "source": [
    "%%bash\n",
    "#Targeted WT:\n",
    "bash MiniMapscript.sh ../refseqs/polbwt.fasta ../sortedseqs/Targeted/WTpolb.fasta ../AlignmentMiniMap2/Polb/PolbTargetedWT\n"
   ]
  },
  {
   "cell_type": "code",
   "execution_count": null,
   "metadata": {},
   "outputs": [],
   "source": [
    "%%bash\n",
    "#Targeted WT-REV\n",
    "bash MiniMapscript.sh ../refseqs/polbwt-rev.fasta ../sortedseqs/Targeted/WTREVpolb.fasta ../AlignmentMiniMap2/Polb/PolbTargetedWT_REV\n"
   ]
  },
  {
   "cell_type": "code",
   "execution_count": null,
   "metadata": {},
   "outputs": [],
   "source": [
    "%%bash\n",
    "#Targeted replacement:\n",
    "bash MiniMapscript.sh ../refseqs/polbcherry.fasta ../sortedseqs/Targeted/PolbCherry.fasta ../AlignmentMiniMap2/Polb/TargetedPolbCherry\n"
   ]
  },
  {
   "cell_type": "code",
   "execution_count": null,
   "metadata": {},
   "outputs": [],
   "source": [
    "%%bash\n",
    "#Targeted Deletion:\n",
    "bash MiniMapscript.sh ../refseqs/polbdel.fasta ../sortedseqs/Targeted/PolbDel.fasta ../AlignmentMiniMap2/Polb/PolbTargetedDel"
   ]
  },
  {
   "cell_type": "markdown",
   "metadata": {},
   "source": [
    "- Can view the sorted, indexed, bam files in IGV\n",
    "- Now the remaining Analysis and plotting is done in R \n"
   ]
  }
 ],
 "metadata": {
  "kernelspec": {
   "display_name": "Python 3",
   "language": "python",
   "name": "python3"
  },
  "language_info": {
   "codemirror_mode": {
    "name": "ipython",
    "version": 3
   },
   "file_extension": ".py",
   "mimetype": "text/x-python",
   "name": "python",
   "nbconvert_exporter": "python",
   "pygments_lexer": "ipython3",
   "version": "3.7.3"
  }
 },
 "nbformat": 4,
 "nbformat_minor": 4
}
